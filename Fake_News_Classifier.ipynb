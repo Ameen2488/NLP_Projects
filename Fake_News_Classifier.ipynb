{
  "nbformat": 4,
  "nbformat_minor": 0,
  "metadata": {
    "colab": {
      "provenance": [],
      "authorship_tag": "ABX9TyNgocvayZNOgM5ePDROdPvd",
      "include_colab_link": true
    },
    "kernelspec": {
      "name": "python3",
      "display_name": "Python 3"
    },
    "language_info": {
      "name": "python"
    }
  },
  "cells": [
    {
      "cell_type": "markdown",
      "metadata": {
        "id": "view-in-github",
        "colab_type": "text"
      },
      "source": [
        "<a href=\"https://colab.research.google.com/github/Ameen2488/NLP_Projects/blob/main/Fake_News_Classifier.ipynb\" target=\"_parent\"><img src=\"https://colab.research.google.com/assets/colab-badge.svg\" alt=\"Open In Colab\"/></a>"
      ]
    },
    {
      "cell_type": "code",
      "execution_count": 21,
      "metadata": {
        "id": "vh5xoAgOV88z"
      },
      "outputs": [],
      "source": [
        "# Import the necessary modules\n",
        "import pandas as pd\n",
        "from sklearn.feature_extraction.text import CountVectorizer\n",
        "from sklearn.model_selection import train_test_split\n",
        "# Import TfidfVectorizer\n",
        "from sklearn.feature_extraction.text import TfidfVectorizer\n",
        "import numpy as np"
      ]
    },
    {
      "cell_type": "code",
      "source": [
        "# Try using the 'python' engine and skipping bad lines\n",
        "df = pd.read_csv('/content/fake_or_real_news.csv.crdownload', engine='python', on_bad_lines='skip')\n",
        "df.head()"
      ],
      "metadata": {
        "colab": {
          "base_uri": "https://localhost:8080/",
          "height": 310
        },
        "id": "t64gKHdKZtQP",
        "outputId": "5bd86668-d0be-4ca9-83bc-a60aceea54d6"
      },
      "execution_count": 5,
      "outputs": [
        {
          "output_type": "execute_result",
          "data": {
            "text/plain": [
              "   Unnamed: 0                                              title  \\\n",
              "0        8476                       You Can Smell Hillary’s Fear   \n",
              "1       10294  Watch The Exact Moment Paul Ryan Committed Pol...   \n",
              "2        3608        Kerry to go to Paris in gesture of sympathy   \n",
              "3       10142  Bernie supporters on Twitter erupt in anger ag...   \n",
              "4         875   The Battle of New York: Why This Primary Matters   \n",
              "\n",
              "                                                text label  \n",
              "0  Daniel Greenfield, a Shillman Journalism Fello...  FAKE  \n",
              "1  Google Pinterest Digg Linkedin Reddit Stumbleu...  FAKE  \n",
              "2  U.S. Secretary of State John F. Kerry said Mon...  REAL  \n",
              "3  — Kaydee King (@KaydeeKing) November 9, 2016 T...  FAKE  \n",
              "4  It's primary day in New York and front-runners...  REAL  "
            ],
            "text/html": [
              "\n",
              "  <div id=\"df-a36fa306-4eda-46d7-a498-cf481bda1d34\" class=\"colab-df-container\">\n",
              "    <div>\n",
              "<style scoped>\n",
              "    .dataframe tbody tr th:only-of-type {\n",
              "        vertical-align: middle;\n",
              "    }\n",
              "\n",
              "    .dataframe tbody tr th {\n",
              "        vertical-align: top;\n",
              "    }\n",
              "\n",
              "    .dataframe thead th {\n",
              "        text-align: right;\n",
              "    }\n",
              "</style>\n",
              "<table border=\"1\" class=\"dataframe\">\n",
              "  <thead>\n",
              "    <tr style=\"text-align: right;\">\n",
              "      <th></th>\n",
              "      <th>Unnamed: 0</th>\n",
              "      <th>title</th>\n",
              "      <th>text</th>\n",
              "      <th>label</th>\n",
              "    </tr>\n",
              "  </thead>\n",
              "  <tbody>\n",
              "    <tr>\n",
              "      <th>0</th>\n",
              "      <td>8476</td>\n",
              "      <td>You Can Smell Hillary’s Fear</td>\n",
              "      <td>Daniel Greenfield, a Shillman Journalism Fello...</td>\n",
              "      <td>FAKE</td>\n",
              "    </tr>\n",
              "    <tr>\n",
              "      <th>1</th>\n",
              "      <td>10294</td>\n",
              "      <td>Watch The Exact Moment Paul Ryan Committed Pol...</td>\n",
              "      <td>Google Pinterest Digg Linkedin Reddit Stumbleu...</td>\n",
              "      <td>FAKE</td>\n",
              "    </tr>\n",
              "    <tr>\n",
              "      <th>2</th>\n",
              "      <td>3608</td>\n",
              "      <td>Kerry to go to Paris in gesture of sympathy</td>\n",
              "      <td>U.S. Secretary of State John F. Kerry said Mon...</td>\n",
              "      <td>REAL</td>\n",
              "    </tr>\n",
              "    <tr>\n",
              "      <th>3</th>\n",
              "      <td>10142</td>\n",
              "      <td>Bernie supporters on Twitter erupt in anger ag...</td>\n",
              "      <td>— Kaydee King (@KaydeeKing) November 9, 2016 T...</td>\n",
              "      <td>FAKE</td>\n",
              "    </tr>\n",
              "    <tr>\n",
              "      <th>4</th>\n",
              "      <td>875</td>\n",
              "      <td>The Battle of New York: Why This Primary Matters</td>\n",
              "      <td>It's primary day in New York and front-runners...</td>\n",
              "      <td>REAL</td>\n",
              "    </tr>\n",
              "  </tbody>\n",
              "</table>\n",
              "</div>\n",
              "    <div class=\"colab-df-buttons\">\n",
              "\n",
              "  <div class=\"colab-df-container\">\n",
              "    <button class=\"colab-df-convert\" onclick=\"convertToInteractive('df-a36fa306-4eda-46d7-a498-cf481bda1d34')\"\n",
              "            title=\"Convert this dataframe to an interactive table.\"\n",
              "            style=\"display:none;\">\n",
              "\n",
              "  <svg xmlns=\"http://www.w3.org/2000/svg\" height=\"24px\" viewBox=\"0 -960 960 960\">\n",
              "    <path d=\"M120-120v-720h720v720H120Zm60-500h600v-160H180v160Zm220 220h160v-160H400v160Zm0 220h160v-160H400v160ZM180-400h160v-160H180v160Zm440 0h160v-160H620v160ZM180-180h160v-160H180v160Zm440 0h160v-160H620v160Z\"/>\n",
              "  </svg>\n",
              "    </button>\n",
              "\n",
              "  <style>\n",
              "    .colab-df-container {\n",
              "      display:flex;\n",
              "      gap: 12px;\n",
              "    }\n",
              "\n",
              "    .colab-df-convert {\n",
              "      background-color: #E8F0FE;\n",
              "      border: none;\n",
              "      border-radius: 50%;\n",
              "      cursor: pointer;\n",
              "      display: none;\n",
              "      fill: #1967D2;\n",
              "      height: 32px;\n",
              "      padding: 0 0 0 0;\n",
              "      width: 32px;\n",
              "    }\n",
              "\n",
              "    .colab-df-convert:hover {\n",
              "      background-color: #E2EBFA;\n",
              "      box-shadow: 0px 1px 2px rgba(60, 64, 67, 0.3), 0px 1px 3px 1px rgba(60, 64, 67, 0.15);\n",
              "      fill: #174EA6;\n",
              "    }\n",
              "\n",
              "    .colab-df-buttons div {\n",
              "      margin-bottom: 4px;\n",
              "    }\n",
              "\n",
              "    [theme=dark] .colab-df-convert {\n",
              "      background-color: #3B4455;\n",
              "      fill: #D2E3FC;\n",
              "    }\n",
              "\n",
              "    [theme=dark] .colab-df-convert:hover {\n",
              "      background-color: #434B5C;\n",
              "      box-shadow: 0px 1px 3px 1px rgba(0, 0, 0, 0.15);\n",
              "      filter: drop-shadow(0px 1px 2px rgba(0, 0, 0, 0.3));\n",
              "      fill: #FFFFFF;\n",
              "    }\n",
              "  </style>\n",
              "\n",
              "    <script>\n",
              "      const buttonEl =\n",
              "        document.querySelector('#df-a36fa306-4eda-46d7-a498-cf481bda1d34 button.colab-df-convert');\n",
              "      buttonEl.style.display =\n",
              "        google.colab.kernel.accessAllowed ? 'block' : 'none';\n",
              "\n",
              "      async function convertToInteractive(key) {\n",
              "        const element = document.querySelector('#df-a36fa306-4eda-46d7-a498-cf481bda1d34');\n",
              "        const dataTable =\n",
              "          await google.colab.kernel.invokeFunction('convertToInteractive',\n",
              "                                                    [key], {});\n",
              "        if (!dataTable) return;\n",
              "\n",
              "        const docLinkHtml = 'Like what you see? Visit the ' +\n",
              "          '<a target=\"_blank\" href=https://colab.research.google.com/notebooks/data_table.ipynb>data table notebook</a>'\n",
              "          + ' to learn more about interactive tables.';\n",
              "        element.innerHTML = '';\n",
              "        dataTable['output_type'] = 'display_data';\n",
              "        await google.colab.output.renderOutput(dataTable, element);\n",
              "        const docLink = document.createElement('div');\n",
              "        docLink.innerHTML = docLinkHtml;\n",
              "        element.appendChild(docLink);\n",
              "      }\n",
              "    </script>\n",
              "  </div>\n",
              "\n",
              "\n",
              "<div id=\"df-b830ef0a-98a3-40c7-989c-0a151c635506\">\n",
              "  <button class=\"colab-df-quickchart\" onclick=\"quickchart('df-b830ef0a-98a3-40c7-989c-0a151c635506')\"\n",
              "            title=\"Suggest charts\"\n",
              "            style=\"display:none;\">\n",
              "\n",
              "<svg xmlns=\"http://www.w3.org/2000/svg\" height=\"24px\"viewBox=\"0 0 24 24\"\n",
              "     width=\"24px\">\n",
              "    <g>\n",
              "        <path d=\"M19 3H5c-1.1 0-2 .9-2 2v14c0 1.1.9 2 2 2h14c1.1 0 2-.9 2-2V5c0-1.1-.9-2-2-2zM9 17H7v-7h2v7zm4 0h-2V7h2v10zm4 0h-2v-4h2v4z\"/>\n",
              "    </g>\n",
              "</svg>\n",
              "  </button>\n",
              "\n",
              "<style>\n",
              "  .colab-df-quickchart {\n",
              "      --bg-color: #E8F0FE;\n",
              "      --fill-color: #1967D2;\n",
              "      --hover-bg-color: #E2EBFA;\n",
              "      --hover-fill-color: #174EA6;\n",
              "      --disabled-fill-color: #AAA;\n",
              "      --disabled-bg-color: #DDD;\n",
              "  }\n",
              "\n",
              "  [theme=dark] .colab-df-quickchart {\n",
              "      --bg-color: #3B4455;\n",
              "      --fill-color: #D2E3FC;\n",
              "      --hover-bg-color: #434B5C;\n",
              "      --hover-fill-color: #FFFFFF;\n",
              "      --disabled-bg-color: #3B4455;\n",
              "      --disabled-fill-color: #666;\n",
              "  }\n",
              "\n",
              "  .colab-df-quickchart {\n",
              "    background-color: var(--bg-color);\n",
              "    border: none;\n",
              "    border-radius: 50%;\n",
              "    cursor: pointer;\n",
              "    display: none;\n",
              "    fill: var(--fill-color);\n",
              "    height: 32px;\n",
              "    padding: 0;\n",
              "    width: 32px;\n",
              "  }\n",
              "\n",
              "  .colab-df-quickchart:hover {\n",
              "    background-color: var(--hover-bg-color);\n",
              "    box-shadow: 0 1px 2px rgba(60, 64, 67, 0.3), 0 1px 3px 1px rgba(60, 64, 67, 0.15);\n",
              "    fill: var(--button-hover-fill-color);\n",
              "  }\n",
              "\n",
              "  .colab-df-quickchart-complete:disabled,\n",
              "  .colab-df-quickchart-complete:disabled:hover {\n",
              "    background-color: var(--disabled-bg-color);\n",
              "    fill: var(--disabled-fill-color);\n",
              "    box-shadow: none;\n",
              "  }\n",
              "\n",
              "  .colab-df-spinner {\n",
              "    border: 2px solid var(--fill-color);\n",
              "    border-color: transparent;\n",
              "    border-bottom-color: var(--fill-color);\n",
              "    animation:\n",
              "      spin 1s steps(1) infinite;\n",
              "  }\n",
              "\n",
              "  @keyframes spin {\n",
              "    0% {\n",
              "      border-color: transparent;\n",
              "      border-bottom-color: var(--fill-color);\n",
              "      border-left-color: var(--fill-color);\n",
              "    }\n",
              "    20% {\n",
              "      border-color: transparent;\n",
              "      border-left-color: var(--fill-color);\n",
              "      border-top-color: var(--fill-color);\n",
              "    }\n",
              "    30% {\n",
              "      border-color: transparent;\n",
              "      border-left-color: var(--fill-color);\n",
              "      border-top-color: var(--fill-color);\n",
              "      border-right-color: var(--fill-color);\n",
              "    }\n",
              "    40% {\n",
              "      border-color: transparent;\n",
              "      border-right-color: var(--fill-color);\n",
              "      border-top-color: var(--fill-color);\n",
              "    }\n",
              "    60% {\n",
              "      border-color: transparent;\n",
              "      border-right-color: var(--fill-color);\n",
              "    }\n",
              "    80% {\n",
              "      border-color: transparent;\n",
              "      border-right-color: var(--fill-color);\n",
              "      border-bottom-color: var(--fill-color);\n",
              "    }\n",
              "    90% {\n",
              "      border-color: transparent;\n",
              "      border-bottom-color: var(--fill-color);\n",
              "    }\n",
              "  }\n",
              "</style>\n",
              "\n",
              "  <script>\n",
              "    async function quickchart(key) {\n",
              "      const quickchartButtonEl =\n",
              "        document.querySelector('#' + key + ' button');\n",
              "      quickchartButtonEl.disabled = true;  // To prevent multiple clicks.\n",
              "      quickchartButtonEl.classList.add('colab-df-spinner');\n",
              "      try {\n",
              "        const charts = await google.colab.kernel.invokeFunction(\n",
              "            'suggestCharts', [key], {});\n",
              "      } catch (error) {\n",
              "        console.error('Error during call to suggestCharts:', error);\n",
              "      }\n",
              "      quickchartButtonEl.classList.remove('colab-df-spinner');\n",
              "      quickchartButtonEl.classList.add('colab-df-quickchart-complete');\n",
              "    }\n",
              "    (() => {\n",
              "      let quickchartButtonEl =\n",
              "        document.querySelector('#df-b830ef0a-98a3-40c7-989c-0a151c635506 button');\n",
              "      quickchartButtonEl.style.display =\n",
              "        google.colab.kernel.accessAllowed ? 'block' : 'none';\n",
              "    })();\n",
              "  </script>\n",
              "</div>\n",
              "\n",
              "    </div>\n",
              "  </div>\n"
            ],
            "application/vnd.google.colaboratory.intrinsic+json": {
              "type": "dataframe",
              "variable_name": "df",
              "summary": "{\n  \"name\": \"df\",\n  \"rows\": 3341,\n  \"fields\": [\n    {\n      \"column\": \"Unnamed: 0\",\n      \"properties\": {\n        \"dtype\": \"number\",\n        \"std\": 3050,\n        \"min\": 3,\n        \"max\": 10557,\n        \"num_unique_values\": 3341,\n        \"samples\": [\n          7303,\n          7694,\n          9397\n        ],\n        \"semantic_type\": \"\",\n        \"description\": \"\"\n      }\n    },\n    {\n      \"column\": \"title\",\n      \"properties\": {\n        \"dtype\": \"string\",\n        \"num_unique_values\": 3316,\n        \"samples\": [\n          \"Just When You Thought It Was Safe To Swim, Scientists Discovered A Two-Headed Shark\",\n          \"Top Iranian nuke negotiator ordered to stop screaming at Kerry\",\n          \"MH370: If debris is part of missing plane, what's next?\"\n        ],\n        \"semantic_type\": \"\",\n        \"description\": \"\"\n      }\n    },\n    {\n      \"column\": \"text\",\n      \"properties\": {\n        \"dtype\": \"string\",\n        \"num_unique_values\": 3216,\n        \"samples\": [\n          \"Get short URL 0 6 0 0 US President Barack Obama spoke by phone with Turksih President Recep Tayyip Erdogan and noted the need for Washington and Ankara to coordinate efforts against the Daesh group in Syria, the White House said in a press release. \\nWASHINGTON (Sputnik) \\u2014 Erdogan is at odds with Iraqi Prime Minister Haider al-Abadi over Ankara's role in US-led coalition operation in Moshul after Abadi demanded Turkish troops withdrawal from the base in the northern city of Bashiqa. \\\"President Obama noted the need for close coordination between the United States and Turkey to build on these successes and to apply sustained pressure on ISIL [Daesh] in Syria to reduce threats to the United States, Turkey, and elsewhere,\\\" the release stated on Wednesday. ...\",\n          \"More than 500 staffers from the Justice Department will be monitoring polling stations across 28 states Tuesday.\\n\\nThose staffers have been dispatched to 67 jurisdictions and will be watching for civil rights violations, including racial discrimination.\\n\\n\\\"As always, our personnel will perform these duties impartially with one goal in mind: to see to it that every eligible voter can participate in our elections to the full extent that federal law provides,\\\" Attorney General Loretta Lynch said Monday.\\n\\n \\u00a0\\u00a0 \\u00a0\\n\\n The announcement comes amid rising concerns about voter intimidation.\\n\\n\\\"Observation at the polls should not cross the line into intimidation, that's key,\\\" The Christian Science Monitor quoted Ned Foley, a constitutional law professor at Ohio State University's Moritz School of Law.\\n\\nOn the other hand, there have also been concerns about voter fraud, with some 41 percent of Americans believing the election could be stolen, according to a new Politico/Morning Consult poll.\\n\\nSpeaking at a restaurant and bar in Anderson Township, Ohio, former Alaska Gov. Sarah Palin defended recent claims by Donald Trump that the election could be rigged.\\n\\n\\\"Of course he gets crucified by the press saying he's conspiratorial or something, saying there could be voter fraud,\\\" she said. \\\"Well, primaries can be fixed, and debate questions can be fixed, and dead people can vote.\\\"\\n\\n \\u00a0\\u00a0 \\u00a0\\n\\n In 2012, about 780 monitors were dispatched. This year, that number is down by about 35 percent.\\n\\n \\u00a0\\u00a0 \\u00a0\\n\\n Justice Department officials say they hope voters will not detect any difference in the federal presence.\\n\\n\\\"In most cases, voters on the ground will see very little practical difference between monitors and observers,\\\" Vanita Gupta, head of the agency's Civil Rights Division, said in a statement Monday.\\n\\n\\\"We work closely and cooperatively with jurisdictions around the country to ensure that trained personnel are able to keep an eye on the proceedings from an immediate vantage point.\\\" she said.\",\n          \"A federal appeals court on Monday ruled against President Obama\\u2019s plan to shield up to 5\\u00a0million undocumented immigrants from deportation, dealing another blow to the administration\\u2019s effort to remake immigration laws and likely setting up a final battle in the Supreme Court next year.\\n\\nThe 2-to-1 ruling from a panel of the U.S. Court of Appeals for the 5th Circuit in New Orleans \\u2014 to uphold a lower court\\u2019s injunction that blocks the administration from implementing a \\u00addeferred-action program \\u2014 was not unexpected. It came several months after the same court had denied an emergency stay request from the Justice Department.\\n\\nThe decision means that one of Obama\\u2019s signature immigration initiatives remains on hold nearly a year after he announced it through executive action and leaves in doubt whether the program will begin before his term expires in January 2017. Republican presidential candidates have pledged to dismantle the program, creating additional urgency within the Obama administration to get it started.\\n\\n\\u201cThe president must follow the rule of law, just like everybody else,\\u201d Texas Attorney General Ken Paxton said in a statement Monday. Texas led a coalition of 26 states that brought the lawsuit. \\u201cThroughout this process, the Obama Administration has aggressively disregarded the constitutional limits on executive power.\\u201d\\n\\nImmigration advocates, who feared time was running out to get the case before the high court next year, called on the administration to appeal quickly and maintained confidence that the Supreme Court would issue a favorable ruling by next June.\\n\\n\\u201cEvery single day that goes by means further delays,\\u201d said Marielena Hincapi\\u00e9, executive director of the National Immigration Law Center, who has closely followed the case. \\u201cOnce the green light is given [by the Supreme Court], it will make it that much more difficult for any administration, Republican or Democrat, to undo the program.\\u201d\\n\\nA White House official said the administration strongly disagreed with the court decision and was reviewing its legal options.\\n\\n\\u201cThis lawsuit is preventing people who have been part of our communities for years from working on the books, contributing to our economy by paying taxes on that work, and being held accountable,\\u201d said the official, who was not authorized to speak on the record.\\n\\nThere are an estimated 11\\u00a0million immigrants living in the country illegally. After House Republicans blocked a comprehensive immigration bill last year, Obama announced plans to use executive action to dramatically expand a 2012 program that deferred the deportations of hundreds of thousands of immigrants who entered the United States illegally as children. Under the new program, the undocumented parents of U.S. citizens would be eligible to remain and apply for three-year work permits, provided they had not committed other crimes and lived in the country at least five years.\\n\\nBut 26 states, most with Republican governors, sued to block the program, arguing they would incur fees associated with the issuance of driver\\u2019s licenses to the immigrants and asserting the Obama administration had failed to abide by federal rulemaking requirements. In February, a U.S. District Court judge in Brownsville, Tex., ruled that the program could not get underway as he continued to review whether the program was constitutional, stopping it just days before the Department of Homeland Security was to begin accepting applications.\\n\\nThe 5th Circuit panel that ruled Monday included two judges \\u2014 Jerry Smith and Jennifer Elrod, both appointed by Republican presidents \\u2014 who had ruled against the administration\\u2019s stay request in May and maintained their stances. A third judge, Carolyn Dineen King, appointed by President Jimmy Carter, was not on the earlier panel, and she dissented Monday, ruling in favor of the Obama administration.\\n\\nIn a 135-page decision, Smith wrote that District Judge Andrew Hanen\\u2019s decision in February to issue an injunction on Obama\\u2019s program was \\u201cimpressive and thorough.\\u201d The appeals court dismissed the administration\\u2019s argument that Texas lacked legal standing to challenge a federal immigration program.\\n\\n\\u201cToday\\u2019s ruling is a slap in the face to the good people in America who have also been waiting for Congress and the courts to act with justice, humanity and common sense on the issue of immigration reform,\\u201d said Angelica Salas, executive director for the Coalition for Humane Immigrant Rights of Los Angeles.\"\n        ],\n        \"semantic_type\": \"\",\n        \"description\": \"\"\n      }\n    },\n    {\n      \"column\": \"label\",\n      \"properties\": {\n        \"dtype\": \"category\",\n        \"num_unique_values\": 2,\n        \"samples\": [\n          \"REAL\",\n          \"FAKE\"\n        ],\n        \"semantic_type\": \"\",\n        \"description\": \"\"\n      }\n    }\n  ]\n}"
            }
          },
          "metadata": {},
          "execution_count": 5
        }
      ]
    },
    {
      "cell_type": "code",
      "source": [
        "# Create a series to store the labels: y\n",
        "y = df['label']\n",
        "\n",
        "# Create training and test sets\n",
        "X_train, X_test, y_train, y_test = train_test_split(df['text'], y, test_size = 0.33, random_state = 53)\n",
        "\n",
        "# Initialize a CountVectorizer object: count_vectorizer\n",
        "count_vectorizer = CountVectorizer(stop_words = \"english\")\n",
        "\n",
        "# Transform the training data using only the 'text' column values: count_train\n",
        "count_train = count_vectorizer.fit_transform(X_train)\n",
        "\n",
        "# Transform the test data using only the 'text' column values: count_test\n",
        "count_test = count_vectorizer.transform(X_test)\n",
        "\n",
        "# Print the first 10 features of the count_vectorizer\n",
        "# Use get_feature_names_out() for newer scikit-learn versions\n",
        "print(count_vectorizer.get_feature_names_out()[:10])"
      ],
      "metadata": {
        "colab": {
          "base_uri": "https://localhost:8080/"
        },
        "id": "k_GxcZ3Gd1XG",
        "outputId": "9ef08655-1336-490e-c85e-97235fc4e33c"
      },
      "execution_count": 8,
      "outputs": [
        {
          "output_type": "stream",
          "name": "stdout",
          "text": [
            "['00' '000' '0000' '0002' '000km' '000x' '001' '003' '004' '004s']\n"
          ]
        }
      ]
    },
    {
      "cell_type": "code",
      "source": [
        "# Initialize a TfidfVectorizer object: tfidf_vectorizer\n",
        "tfidf_vectorizer = TfidfVectorizer(stop_words ='english', max_df = 0.7)\n",
        "\n",
        "# Transform the training data: tfidf_train\n",
        "tfidf_train = tfidf_vectorizer.fit_transform(X_train)\n",
        "\n",
        "# Transform the test data: tfidf_test\n",
        "tfidf_test = tfidf_vectorizer.transform(X_test)\n",
        "\n",
        "# Print the first 10 features\n",
        "print(tfidf_vectorizer.get_feature_names_out()[:10])\n",
        "\n",
        "# Print the first 5 vectors of the tfidf training data\n",
        "print(tfidf_train.A[:5])\n"
      ],
      "metadata": {
        "colab": {
          "base_uri": "https://localhost:8080/"
        },
        "id": "pf7qlPrMgyZ6",
        "outputId": "66e1a87c-9a55-4b50-a7d5-2a0504ba85d7"
      },
      "execution_count": 11,
      "outputs": [
        {
          "output_type": "stream",
          "name": "stdout",
          "text": [
            "['00' '000' '0000' '0002' '000km' '000x' '001' '003' '004' '004s']\n",
            "[[0.         0.         0.         ... 0.         0.         0.        ]\n",
            " [0.         0.         0.         ... 0.         0.         0.        ]\n",
            " [0.         0.01270823 0.         ... 0.         0.         0.        ]\n",
            " [0.         0.         0.         ... 0.         0.         0.        ]\n",
            " [0.         0.         0.         ... 0.         0.         0.        ]]\n"
          ]
        }
      ]
    },
    {
      "cell_type": "code",
      "source": [
        "# Create the CountVectorizer DataFrame: count_df\n",
        "count_df = pd.DataFrame(count_train.A, columns=count_vectorizer.get_feature_names_out())\n",
        "\n",
        "# Create the TfidfVectorizer DataFrame: tfidf_df\n",
        "tfidf_df = pd.DataFrame(tfidf_train.A, columns=tfidf_vectorizer.get_feature_names_out())\n",
        "\n",
        "# Print the head of count_df\n",
        "print(count_df.head())\n",
        "\n",
        "# Print the head of tfidf_df\n",
        "print(tfidf_df.head())\n",
        "\n",
        "# Calculate the difference in columns: difference\n",
        "difference = set(tfidf_df.columns) - set(count_df.columns)\n",
        "print(difference)\n",
        "\n",
        "# Check whether the DataFrames are equal\n",
        "print(count_df.equals(tfidf_df))\n"
      ],
      "metadata": {
        "colab": {
          "base_uri": "https://localhost:8080/"
        },
        "id": "2xcjjPNTjAfx",
        "outputId": "c2e325cc-8b6e-4356-b0b6-3fdbe9387a3f"
      },
      "execution_count": 17,
      "outputs": [
        {
          "output_type": "stream",
          "name": "stdout",
          "text": [
            "   00  000  0000  0002  000km  000x  001  003  004  004s  ...  ťđ  ελληνικά  \\\n",
            "0   0    0     0     0      0     0    0    0    0     0  ...   0         0   \n",
            "1   0    0     0     0      0     0    0    0    0     0  ...   0         0   \n",
            "2   0    1     0     0      0     0    0    0    0     0  ...   0         0   \n",
            "3   0    0     0     0      0     0    0    0    0     0  ...   0         0   \n",
            "4   0    0     0     0      0     0    0    0    0     0  ...   0         0   \n",
            "\n",
            "   октября  русский  эa  эin  эthe  яркий  عربي  ยงade  \n",
            "0        0        0   0    0     0      0     0      0  \n",
            "1        0        0   0    0     0      0     0      0  \n",
            "2        0        0   0    0     0      0     0      0  \n",
            "3        0        0   0    0     0      0     0      0  \n",
            "4        0        0   0    0     0      0     0      0  \n",
            "\n",
            "[5 rows x 43795 columns]\n",
            "    00       000  0000  0002  000km  000x  001  003  004  004s  ...   ťđ  \\\n",
            "0  0.0  0.000000   0.0   0.0    0.0   0.0  0.0  0.0  0.0   0.0  ...  0.0   \n",
            "1  0.0  0.000000   0.0   0.0    0.0   0.0  0.0  0.0  0.0   0.0  ...  0.0   \n",
            "2  0.0  0.012708   0.0   0.0    0.0   0.0  0.0  0.0  0.0   0.0  ...  0.0   \n",
            "3  0.0  0.000000   0.0   0.0    0.0   0.0  0.0  0.0  0.0   0.0  ...  0.0   \n",
            "4  0.0  0.000000   0.0   0.0    0.0   0.0  0.0  0.0  0.0   0.0  ...  0.0   \n",
            "\n",
            "   ελληνικά  октября  русский   эa  эin  эthe  яркий  عربي  ยงade  \n",
            "0       0.0      0.0      0.0  0.0  0.0   0.0    0.0   0.0    0.0  \n",
            "1       0.0      0.0      0.0  0.0  0.0   0.0    0.0   0.0    0.0  \n",
            "2       0.0      0.0      0.0  0.0  0.0   0.0    0.0   0.0    0.0  \n",
            "3       0.0      0.0      0.0  0.0  0.0   0.0    0.0   0.0    0.0  \n",
            "4       0.0      0.0      0.0  0.0  0.0   0.0    0.0   0.0    0.0  \n",
            "\n",
            "[5 rows x 43795 columns]\n",
            "set()\n",
            "False\n"
          ]
        }
      ]
    },
    {
      "cell_type": "markdown",
      "source": [
        "###Training and testing the \"fake news\" model with CountVectorizer\n"
      ],
      "metadata": {
        "id": "zHeYqeaFmlxJ"
      }
    },
    {
      "cell_type": "code",
      "source": [
        "# Import the necessary modules\n",
        "from sklearn import metrics\n",
        "from sklearn.naive_bayes import MultinomialNB\n",
        "\n",
        "# Instantiate a Multinomial Naive Bayes classifier: nb_classifier\n",
        "nb_classifier = MultinomialNB()\n",
        "\n",
        "# Fit the classifier to the training data\n",
        "nb_classifier.fit(count_train, y_train)\n",
        "\n",
        "# Create the predicted tags: pred\n",
        "pred = nb_classifier.predict(count_test)\n",
        "\n",
        "# Calculate the accuracy score: score\n",
        "score = metrics.accuracy_score(y_test, pred)\n",
        "print(score)\n",
        "\n",
        "# Calculate the confusion matrix: cm\n",
        "cm = metrics.confusion_matrix(y_test, pred, labels=['FAKE', 'REAL'])\n",
        "print(cm)\n"
      ],
      "metadata": {
        "colab": {
          "base_uri": "https://localhost:8080/"
        },
        "id": "IO3nLdKsmtYV",
        "outputId": "30c5803c-b0dc-404b-ed7a-430348849528"
      },
      "execution_count": 16,
      "outputs": [
        {
          "output_type": "stream",
          "name": "stdout",
          "text": [
            "0.8848594741613781\n",
            "[[479  89]\n",
            " [ 38 497]]\n"
          ]
        }
      ]
    },
    {
      "cell_type": "markdown",
      "source": [
        "###Training and testing the \"fake news\" model with TfidfVectorizer"
      ],
      "metadata": {
        "id": "ySAxbGB_oLNu"
      }
    },
    {
      "cell_type": "code",
      "source": [
        "# Create a Multinomial Naive Bayes classifier: nb_classifier\n",
        "nb_classifier = MultinomialNB()\n",
        "\n",
        "# Fit the classifier to the training data\n",
        "nb_classifier.fit(tfidf_train, y_train)\n",
        "\n",
        "# Create the predicted tags: pred\n",
        "pred = nb_classifier.predict(tfidf_test)\n",
        "\n",
        "# Calculate the accuracy score: score\n",
        "score = metrics.accuracy_score(y_test, pred)\n",
        "print(score)\n",
        "\n",
        "# Calculate the confusion matrix: cm\n",
        "cm = metrics.confusion_matrix(y_test, pred, labels=['FAKE', 'REAL'])\n",
        "print(cm)\n"
      ],
      "metadata": {
        "colab": {
          "base_uri": "https://localhost:8080/"
        },
        "id": "eraWPhNtoNVw",
        "outputId": "09a58845-5115-4426-aa7d-d113bdc725d5"
      },
      "execution_count": 18,
      "outputs": [
        {
          "output_type": "stream",
          "name": "stdout",
          "text": [
            "0.8068902991840435\n",
            "[[368 200]\n",
            " [ 13 522]]\n"
          ]
        }
      ]
    },
    {
      "cell_type": "markdown",
      "source": [
        "### Improving The Model"
      ],
      "metadata": {
        "id": "4Aryd5atrddY"
      }
    },
    {
      "cell_type": "code",
      "source": [
        "# Create the list of alphas: alphas\n",
        "alphas = np.arange(0, 1, .1)\n",
        "\n",
        "# Define train_and_predict()\n",
        "def train_and_predict(alpha):\n",
        "    # Instantiate the classifier: nb_classifier\n",
        "    nb_classifier = MultinomialNB(alpha=alpha)\n",
        "    # Fit to the training data\n",
        "    nb_classifier.fit(tfidf_train, y_train)\n",
        "    # Predict the labels: pred\n",
        "    pred = nb_classifier.predict(tfidf_test)\n",
        "    # Compute accuracy: score\n",
        "    score = metrics.accuracy_score(y_test, pred)\n",
        "    return score\n",
        "\n",
        "# Iterate over the alphas and print the corresponding score\n",
        "for alpha in alphas:\n",
        "    print('Alpha: ', alpha)\n",
        "    print('Score: ', train_and_predict(alpha))\n",
        "    print()\n",
        ""
      ],
      "metadata": {
        "colab": {
          "base_uri": "https://localhost:8080/"
        },
        "id": "JWgEwubbrg5I",
        "outputId": "264c63ac-8623-48a0-f697-0e9ce6b1d130"
      },
      "execution_count": 22,
      "outputs": [
        {
          "output_type": "stream",
          "name": "stdout",
          "text": [
            "Alpha:  0.0\n",
            "Score:  0.8676337262012692\n",
            "\n",
            "Alpha:  0.1\n",
            "Score:  0.8830462375339981\n",
            "\n",
            "Alpha:  0.2\n",
            "Score:  0.8785131459655485\n",
            "\n",
            "Alpha:  0.30000000000000004\n",
            "Score:  0.8694469628286491\n",
            "\n",
            "Alpha:  0.4\n",
            "Score:  0.8513145965548504\n",
            "\n",
            "Alpha:  0.5\n",
            "Score:  0.8368087035358114\n",
            "\n",
            "Alpha:  0.6000000000000001\n",
            "Score:  0.828649138712602\n",
            "\n",
            "Alpha:  0.7000000000000001\n",
            "Score:  0.8232094288304623\n",
            "\n",
            "Alpha:  0.8\n"
          ]
        },
        {
          "output_type": "stream",
          "name": "stderr",
          "text": [
            "/usr/local/lib/python3.10/dist-packages/sklearn/naive_bayes.py:624: FutureWarning: The default value for `force_alpha` will change to `True` in 1.4. To suppress this warning, manually set the value of `force_alpha`.\n",
            "  warnings.warn(\n",
            "/usr/local/lib/python3.10/dist-packages/sklearn/naive_bayes.py:633: UserWarning: alpha too small will result in numeric errors, setting alpha = 1.0e-10. Use `force_alpha=True` to keep alpha unchanged.\n",
            "  warnings.warn(\n"
          ]
        },
        {
          "output_type": "stream",
          "name": "stdout",
          "text": [
            "Score:  0.8213961922030825\n",
            "\n",
            "Alpha:  0.9\n",
            "Score:  0.814143245693563\n",
            "\n"
          ]
        }
      ]
    },
    {
      "cell_type": "markdown",
      "source": [
        "###Inspecting your Model"
      ],
      "metadata": {
        "id": "K17QegJFu9Md"
      }
    },
    {
      "cell_type": "code",
      "source": [
        "# Get the class labels: class_labels\n",
        "class_labels = nb_classifier.classes_\n",
        "\n",
        "# Extract the features: feature_names\n",
        "feature_names = tfidf_vectorizer.get_feature_names_out()\n",
        "\n",
        "# Get the probabilities of features given a class: feature_probs\n",
        "feature_probs = nb_classifier.feature_log_prob_\n",
        "\n",
        "# Zip the feature names together with the probabilities and sort by weights: feat_with_weights\n",
        "feat_with_weights = sorted(zip(feature_probs[0], feature_names))\n",
        "\n",
        "# Print the first class label and the top 20 feat_with_weights entries\n",
        "print(class_labels[0], feat_with_weights[:20])\n",
        "\n",
        "# Print the second class label and the bottom 20 feat_with_weights entries\n",
        "print(class_labels[1], feat_with_weights[-20:])\n"
      ],
      "metadata": {
        "colab": {
          "base_uri": "https://localhost:8080/"
        },
        "id": "fnipfOY7vBBW",
        "outputId": "d305ecdf-1336-4239-df2b-d34c36cdbb88"
      },
      "execution_count": 26,
      "outputs": [
        {
          "output_type": "stream",
          "name": "stdout",
          "text": [
            "FAKE [(-10.925871984197721, '000x'), (-10.925871984197721, '001'), (-10.925871984197721, '003'), (-10.925871984197721, '009'), (-10.925871984197721, '011'), (-10.925871984197721, '012'), (-10.925871984197721, '022'), (-10.925871984197721, '024'), (-10.925871984197721, '027'), (-10.925871984197721, '042'), (-10.925871984197721, '044'), (-10.925871984197721, '047'), (-10.925871984197721, '075'), (-10.925871984197721, '0843'), (-10.925871984197721, '091'), (-10.925871984197721, '093'), (-10.925871984197721, '1001'), (-10.925871984197721, '101st'), (-10.925871984197721, '102m'), (-10.925871984197721, '103rd')]\n",
            "REAL [(-8.277162792028813, 'american'), (-8.266941593057535, 'donald'), (-8.24214687051742, 'time'), (-8.233549816528546, 'october'), (-8.206806285567117, 'war'), (-8.165159452062984, 'emails'), (-8.16336276236144, 'world'), (-8.161371261080067, 'new'), (-8.140642098946163, 'government'), (-8.132888142109032, 'like'), (-8.098779003578837, 'russia'), (-8.061346502933967, 'just'), (-8.01423355227258, 'said'), (-7.934147002575468, 'fbi'), (-7.849558057017841, '2016'), (-7.840075157662469, 'election'), (-7.803777101962118, 'people'), (-7.467648286882978, 'hillary'), (-7.175288919859735, 'clinton'), (-7.134643818812831, 'trump')]\n"
          ]
        }
      ]
    }
  ]
}